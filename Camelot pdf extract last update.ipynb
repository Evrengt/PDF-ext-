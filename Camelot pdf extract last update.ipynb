{
 "cells": [
  {
   "cell_type": "code",
   "execution_count": 14,
   "id": "f3257125",
   "metadata": {},
   "outputs": [],
   "source": [
    "import camelot \n",
    "import os\n",
    "import ctypes\n",
    "import pandas as pd\n",
    "from functools import reduce"
   ]
  },
  {
   "cell_type": "code",
   "execution_count": null,
   "id": "bdea24ed",
   "metadata": {
    "scrolled": true
   },
   "outputs": [],
   "source": [
    "os.chdir(r'C:\\Users\\TCEOZTURKOGLU\\Desktop')\n",
    "tables=camelot.read_pdf('YLB MAYIS.pdf', flavor='stream', pages='all', strip_text=' .\\n', edge_tol=900)\n",
    "tables"
   ]
  },
  {
   "cell_type": "code",
   "execution_count": null,
   "id": "743476d7",
   "metadata": {},
   "outputs": [],
   "source": [
    "tables[0].parsing_report\n",
    "df0=tables[0].df"
   ]
  },
  {
   "cell_type": "code",
   "execution_count": null,
   "id": "c72b03c7",
   "metadata": {},
   "outputs": [],
   "source": [
    "tables[1].parsing_report\n",
    "df1=tables[1].df"
   ]
  },
  {
   "cell_type": "code",
   "execution_count": null,
   "id": "c09fa58f",
   "metadata": {},
   "outputs": [],
   "source": [
    "tables[2].parsing_report\n",
    "df2=tables[2].df"
   ]
  },
  {
   "cell_type": "code",
   "execution_count": null,
   "id": "e00beba8",
   "metadata": {},
   "outputs": [],
   "source": [
    "tables[4].parsing_report\n",
    "df3=tables[4].df"
   ]
  },
  {
   "cell_type": "code",
   "execution_count": null,
   "id": "0dcb0b30",
   "metadata": {},
   "outputs": [],
   "source": [
    "tables[6].parsing_report\n",
    "df4=tables[6].df"
   ]
  },
  {
   "cell_type": "code",
   "execution_count": null,
   "id": "91651997",
   "metadata": {},
   "outputs": [],
   "source": [
    "tables[7].parsing_report\n",
    "df5=tables[7].df"
   ]
  },
  {
   "cell_type": "code",
   "execution_count": null,
   "id": "1fbc8bb0",
   "metadata": {},
   "outputs": [],
   "source": [
    "tables[9].parsing_report\n",
    "df6=tables[9].df"
   ]
  },
  {
   "cell_type": "code",
   "execution_count": null,
   "id": "508fbcba",
   "metadata": {},
   "outputs": [],
   "source": [
    "megadf=pd.concat([df0, df1, df2, df3, df4, df5, df6])\n",
    "megadf.to_csv('megadf.csv')"
   ]
  },
  {
   "cell_type": "code",
   "execution_count": null,
   "id": "1a7bfbbe",
   "metadata": {},
   "outputs": [],
   "source": [
    "for item in tables:\n",
    "    print(item.df)\n",
    "    item.df.index[item.df[0].isin(['PORTFÖYDEN SATIŞLAR'])]"
   ]
  },
  {
   "cell_type": "code",
   "execution_count": null,
   "id": "d94e23ad",
   "metadata": {
    "scrolled": true
   },
   "outputs": [],
   "source": [
    "item.df.index[item.df[0].isin(['PORTFÖYDEN SATIŞLAR'])].tolist()"
   ]
  }
 ],
 "metadata": {
  "kernelspec": {
   "display_name": "Python 3 (ipykernel)",
   "language": "python",
   "name": "python3"
  },
  "language_info": {
   "codemirror_mode": {
    "name": "ipython",
    "version": 3
   },
   "file_extension": ".py",
   "mimetype": "text/x-python",
   "name": "python",
   "nbconvert_exporter": "python",
   "pygments_lexer": "ipython3",
   "version": "3.9.12"
  }
 },
 "nbformat": 4,
 "nbformat_minor": 5
}
