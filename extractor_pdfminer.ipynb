{
 "cells": [
  {
   "cell_type": "code",
   "execution_count": 25,
   "id": "6fe0eac2-7666-43f6-82aa-7cd0b2b2e339",
   "metadata": {},
   "outputs": [],
   "source": [
    "import io\n",
    "from pdfminer.pdfinterp import PDFResourceManager, PDFPageInterpreter\n",
    "from pdfminer.converter import TextConverter\n",
    "from pdfminer.layout import LAParams\n",
    "from pdfminer.pdfpage import PDFPage\n",
    "import pandas as pd\n",
    "import json\n",
    "import os"
   ]
  },
  {
   "cell_type": "code",
   "execution_count": 23,
   "id": "fe66d767-3219-4418-82d3-aa909e4500b1",
   "metadata": {},
   "outputs": [],
   "source": [
    "def extract_text_by_page(pdf_path):\n",
    "    with open(pdf_path, 'rb') as fh:\n",
    "        for page in PDFPage.get_pages(fh, \n",
    "                                      caching=True,\n",
    "                                      check_extractable=True):\n",
    "            resource_manager = PDFResourceManager()\n",
    "            fake_file_handle = io.StringIO()\n",
    "            converter = TextConverter(resource_manager, fake_file_handle)\n",
    "            page_interpreter = PDFPageInterpreter(resource_manager, converter)\n",
    "            page_interpreter.process_page(page)\n",
    "            \n",
    "            text = fake_file_handle.getvalue()\n",
    "            yield text\n",
    "    \n",
    "            # close open handles\n",
    "            converter.close()\n",
    "            fake_file_handle.close()\n",
    "    \n",
    "def extract_text(pdf_path):\n",
    "    for page in extract_text_by_page(pdf_path):\n",
    "        print(page)\n",
    "        print()"
   ]
  },
  {
   "cell_type": "code",
   "execution_count": 24,
   "id": "3ee1ae39-e772-4131-a62c-1f7aeeffba58",
   "metadata": {},
   "outputs": [],
   "source": [
    "def convert_pdf_to_txt(path,password=\"\",maxpages=0):\n",
    "    '''ref number 26494211'''\n",
    "    rsrcmgr = PDFResourceManager()\n",
    "    retstr = io.StringIO()\n",
    "    codec = 'utf-8'\n",
    "    laparams = LAParams()\n",
    "    device = TextConverter(rsrcmgr, retstr, laparams=laparams) # codec=codec, \n",
    "    fp = open(path, 'rb')\n",
    "    interpreter = PDFPageInterpreter(rsrcmgr, device)\n",
    "    caching = True\n",
    "    pagenos = set()\n",
    "\n",
    "    for page in PDFPage.get_pages(fp, pagenos, maxpages=maxpages,\n",
    "                                  password=password,\n",
    "                                  caching=caching,\n",
    "                                  check_extractable=True):\n",
    "        interpreter.process_page(page)\n",
    "\n",
    "    text = retstr.getvalue()\n",
    "\n",
    "    fp.close()\n",
    "    device.close()\n",
    "    retstr.close()\n",
    "    return text"
   ]
  },
  {
   "cell_type": "code",
   "execution_count": 55,
   "id": "f181d044-e0be-4c65-93e3-69dbc8f0fc26",
   "metadata": {},
   "outputs": [],
   "source": [
    "def export_as_json(pdf_path, json_path):\n",
    "    filename = os.path.splitext(os.path.basename(pdf_path))[0]\n",
    "    data = {'Filename': filename}\n",
    "    data['Pages'] = []\n",
    "    \n",
    "    counter = 1\n",
    "    for page in extract_text_by_page(pdf_path):\n",
    "        #text = page[0:100]\n",
    "        text = page[0:len(page)]\n",
    "        #page = {f'Page_{counter}': text}\n",
    "        data['Pages'].append(text)\n",
    "        counter += 1\n",
    "    \n",
    "    with open(json_path, 'w') as fh:\n",
    "        json.dump(data, fh)\n",
    "        \n",
    "    return data"
   ]
  },
  {
   "cell_type": "code",
   "execution_count": 66,
   "id": "23a59440-e3d7-4755-9f26-cafc0f54b690",
   "metadata": {},
   "outputs": [],
   "source": [
    "path = \"YLB_Nisan 2022 Portföy Da__l_m Raporu Bildirimi.pdf\"\n",
    "\n",
    "text = convert_pdf_to_txt(path, password=\"\", maxpages=0)"
   ]
  },
  {
   "cell_type": "code",
   "execution_count": 56,
   "id": "e2b9a6e4-932f-49d2-9594-bef09c7d9832",
   "metadata": {},
   "outputs": [],
   "source": [
    "pdf_path = \"YLB_Nisan 2022 Portföy Da__l_m Raporu Bildirimi.pdf\"\n",
    "json_path = \"YLB_Nisan 2022 Portföy Da__l_m Raporu Bildirimi.json\"\n",
    "\n",
    "jdata = export_as_json(pdf_path, json_path)"
   ]
  },
  {
   "cell_type": "code",
   "execution_count": 58,
   "id": "93fd1598-6fe9-4da0-8687-f1fa17ffa3c3",
   "metadata": {},
   "outputs": [
    {
     "data": {
      "text/plain": [
       "list"
      ]
     },
     "execution_count": 58,
     "metadata": {},
     "output_type": "execute_result"
    }
   ],
   "source": [
    "for p in jdata[\"Pages\"]:\n",
    "    print(p)"
   ]
  },
  {
   "cell_type": "code",
   "execution_count": null,
   "id": "d629071d-d867-46bc-af3c-683eaddf0a7a",
   "metadata": {},
   "outputs": [],
   "source": [
    "print(text)"
   ]
  },
  {
   "cell_type": "code",
   "execution_count": 76,
   "id": "6d9dc5b8-3c54-42bf-aa75-212b3d62c202",
   "metadata": {},
   "outputs": [
    {
     "data": {
      "text/plain": [
       "(10777, 14777)"
      ]
     },
     "execution_count": 76,
     "metadata": {},
     "output_type": "execute_result"
    }
   ],
   "source": [
    "(text.index(\"PORTFÖYDEN\"), text.index(\"PORTFÖYE\"))"
   ]
  },
  {
   "cell_type": "code",
   "execution_count": 84,
   "id": "602311ac-ea49-48a4-891f-c444605582d8",
   "metadata": {},
   "outputs": [
    {
     "data": {
      "text/plain": [
       "'PORTFÖYDEN SATIŞLAR\\n\\n:'"
      ]
     },
     "execution_count": 84,
     "metadata": {},
     "output_type": "execute_result"
    }
   ],
   "source": [
    "text[10777:10799]"
   ]
  },
  {
   "cell_type": "code",
   "execution_count": 83,
   "id": "ec6ce6c8-eacb-47dc-bbc8-3d3c3ae5f150",
   "metadata": {},
   "outputs": [
    {
     "data": {
      "text/plain": [
       "'PORTFÖYE ALIŞLAR\\n\\n'"
      ]
     },
     "execution_count": 83,
     "metadata": {},
     "output_type": "execute_result"
    }
   ],
   "source": [
    "text[14777:14795]"
   ]
  }
 ],
 "metadata": {
  "kernelspec": {
   "display_name": "pdf-extraction",
   "language": "python",
   "name": "pdf-extraction"
  },
  "language_info": {
   "codemirror_mode": {
    "name": "ipython",
    "version": 3
   },
   "file_extension": ".py",
   "mimetype": "text/x-python",
   "name": "python",
   "nbconvert_exporter": "python",
   "pygments_lexer": "ipython3",
   "version": "3.8.9"
  }
 },
 "nbformat": 4,
 "nbformat_minor": 5
}
